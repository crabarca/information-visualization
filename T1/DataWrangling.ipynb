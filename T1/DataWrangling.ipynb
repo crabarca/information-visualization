{
 "cells": [
  {
   "cell_type": "markdown",
   "metadata": {},
   "source": [
    "## Procesamiento de distintos Datasets de religiones en el mundo\n",
    "El objetivo de este procesamiento de datos es limpiar, integrar y transformar los datos de distintos set de datos para posteriormente poder realizar un analisís mediante visualizaciones realizadas con SVG.\n",
    "\n",
    "\n",
    "Para esto utilizaré la libreria Pandas de Python para el procesamiento de los datos que se encuentran en formato CSV y JSON\n"
   ]
  },
  {
   "cell_type": "code",
   "execution_count": 1,
   "metadata": {
    "collapsed": true
   },
   "outputs": [],
   "source": [
    "import pandas as pd\n",
    "import json\n",
    "from heapq import nlargest\n",
    "from pandas.io.json import json_normalize\n",
    "\n",
    "from IPython.display import display"
   ]
  },
  {
   "cell_type": "markdown",
   "metadata": {},
   "source": [
    "Vamos a crear los distintos dataframes para poder generar los archivos a utilizar en el punto2. \n",
    "\n",
    "\n",
    "Creamos los dataframes con los distintos datasets:"
   ]
  },
  {
   "cell_type": "code",
   "execution_count": 2,
   "metadata": {
    "collapsed": true
   },
   "outputs": [],
   "source": [
    "wrp_global = pd.read_csv('data/WRP_global.csv')\n",
    "wrp_nation = pd.read_csv('data/WRP_national.csv')\n",
    "wrp_region = pd.read_csv('data/WRP_regional.csv')\n",
    "wrp_COW = pd.read_csv('data/COW_country_codes.csv')\n",
    "\n",
    "with open('data/dataset_countries.json') as json_data:\n",
    "    countries = json.load(json_data)\n",
    "    json_data.close()\n",
    "\n"
   ]
  },
  {
   "cell_type": "markdown",
   "metadata": {},
   "source": [
    "## Heatmap\n",
    "La preparación de los datos para esta visualización consiste en varios pasos que detallaré a continuacion:\n",
    "1. Determinar las religiones mas numerosas en funcion de el dataset WRP_global, de donde determinare que religiones van a estar en el heatmap.\n",
    "2. Cruzar datos entre los paises que están en **WRP_national** y la lista de paises según continentes que se encuentra en **dataset_json**. De manera de determinar a que continente pertenecen los paises que estan en **WRP_national**. De esto va a salir un nuevo dataframe de **Pandas** que va a contener a los paises según continente.\n",
    "Ya que la información que se tiene en **WRP_regional** no incluye a America y Oceania especificamente como tal.  \n",
    "3. Del dataframe anterior contamos la cantidad total de personas por continente. \n",
    "4. Procedemos a calcular la cantidad de practicantes por religion por continente según la lista de religiones obtenida en (2)\n",
    "\n",
    "\n",
    "**Importante**: Esta selección la haré en función de los últimos datos obtenidos en 2010."
   ]
  },
  {
   "cell_type": "markdown",
   "metadata": {},
   "source": [
    "Empezamos la preparación de datos siguiendo el esquema anterior.\n",
    "\n",
    "\n",
    "Religiones más numerosas:"
   ]
  },
  {
   "cell_type": "code",
   "execution_count": 9,
   "metadata": {},
   "outputs": [
    {
     "name": "stdout",
     "output_type": "stream",
     "text": [
      "Religiones con más practicantes a nivel mundial:\n",
      "['chrstgen', 'islmgen', 'islmsun', 'chrstcat', 'hindgen', 'nonrelig', 'syncgen', 'chrstprot', 'budgen', 'budothr']\n"
     ]
    }
   ],
   "source": [
    "# Seleccionamos la fila correspondiente al año 2010 y solo columnas con el numero de practicantes por religion\n",
    "global_religions = wrp_global[wrp_global['year'] == 2010].as_matrix()[0][0:36]\n",
    "\n",
    "# cambiamos las comas por espacios vacios para castear a float y obtener maximos\n",
    "global_religions = list(map(lambda x: float(x.replace(',','')) if type(x) == str else float(x), global_religions))\n",
    "\n",
    "# nombre de las 10 religiones mas numerosas en orden descendiente de izquierda a derecha\n",
    "largest_religions = []\n",
    "for i in nlargest(10, global_religions):\n",
    "    for j in range(len(global_religions)):\n",
    "        if i == global_religions[j]:\n",
    "            largest_religions.append(wrp_global.columns[j])\n",
    "print(\"Religiones con más practicantes a nivel mundial:\\n{}\".format(largest_religions))"
   ]
  },
  {
   "cell_type": "markdown",
   "metadata": {},
   "source": [
    "Ahora necesitamos cruzar datos entre los dataset WRP_national y dataset_json, de manera de tener la correlacion pais-continente.\n",
    "\n",
    "Partimos relacionando pais-continente:"
   ]
  },
  {
   "cell_type": "code",
   "execution_count": 111,
   "metadata": {},
   "outputs": [
    {
     "name": "stdout",
     "output_type": "stream",
     "text": [
      "Paises de los que no tenemos informacion en WRP_nation.csv pero que estan en data_countries.json:\n",
      " [('europe', 'Serbia'), ('asia', 'Timor-Leste'), ('asia', 'Palestine'), ('america', 'Saint Lucia')]\n",
      "Poblacion total según WRP_national: 6830615581\n",
      "Poblacion total de mi selección de paises:6406584710\n",
      "Población total que dejamos fuera: 424030871 ,que equivale a un: 6.21% de la población según WRP_national\n",
      "\n"
     ]
    }
   ],
   "source": [
    "# CONTINENTES Y SUS RESPECTIVOS PAISES\n",
    "continentes = {'europe': list(map(lambda x: x['name']['common'], countries['Europe'])),\n",
    "               'america': list(map(lambda x: x['name']['common'], countries['Americas'])),\n",
    "               'asia': list(map(lambda x: x['name']['common'], countries['Asia'])),\n",
    "               'oceania': list(map(lambda x: x['name']['common'], countries['Oceania'])),\n",
    "               'africa': list(map(lambda x: x['name']['common'], countries['Africa']))}\n",
    "\n",
    "# transformamos la lista de paises en diccionarios para poder agregar caracteristicas\n",
    "for continente in continentes:\n",
    "    aux = {}\n",
    "    for pais in continentes[continente]:\n",
    "        aux[pais] = {}\n",
    "    continentes[continente] = aux\n",
    "\n",
    "count = 0\n",
    "for continente in continentes:\n",
    "    for pais in continentes[continente]:\n",
    "        count += 1\n",
    "        \n",
    "# Ocupamos el dataset auxiliar COW_country_codes y asociamos el codigo con el nombre del pais\n",
    "code_abr = wrp_nation[wrp_nation['year'] == 2010].ix[:,1:3]\n",
    "\n",
    "# tenemos 194 paises con datos del año 2010 y 148 paises en el dataset_countries.json\n",
    "# revisamos si 46 paises paises de diferencia son realmente significativos en el porcentaje total de problación\n",
    "\n",
    "# Utilizamos el dataset de codigos de paises\n",
    "code_name = code_abr.join(wrp_COW.set_index(['CCode']), on='state')\n",
    "\n",
    "# Según los 194 países en WRP_nation, al año 2010 existe una poblacion total de:\n",
    "wrp_total_pop = wrp_nation[wrp_nation['year'] == 2010]['pop'].sum()\n",
    "\n",
    "# Consideramos los datos del año 2010 de los paises \n",
    "wrp_countries_2010 = wrp_nation[wrp_nation['year'] == 2010]\n",
    "\n",
    "# agregamos a nuestro diccionario de continentes el codigo de pais correspondiente, según el dataset auxiliar\n",
    "for index, row in code_name.iterrows():\n",
    "    for continente, paises in continentes.items():\n",
    "        for name, value in paises.items():\n",
    "            if name in row['StateNme']:\n",
    "                continentes[continente][name]['state_code'] = row['state']\n",
    "\n",
    "# cruzamos los datos de poblacion de WRP_national con los paises que tenemos en countries.json\n",
    "# agregamos informacion relacionada a la poblacion total de cada pais\n",
    "for index, row in wrp_countries_2010.iterrows():\n",
    "     for continente, paises in continentes.items():\n",
    "            for name, value in paises.items():\n",
    "                if value != {}:\n",
    "                    if value['state_code'] == row['state']:\n",
    "                        continentes[continente][name]['pop'] = row['pop']\n",
    "\n",
    "\n",
    "# buscamos paises de los que no tenemos informacion en WRP_national pero se encuentran en countries.json\n",
    "no_info = []\n",
    "no_info_countries = []\n",
    "for continente, paises in continentes.items():\n",
    "    for name, values in paises.items():\n",
    "        if values == {}:\n",
    "            no_info.append((continente, name))\n",
    "            no_info_countries.append(name)\n",
    "print(\"Paises de los que no tenemos informacion en WRP_nation.csv pero que estan en data_countries.json:\\n\", no_info)\n",
    "# eliminamos estos paises\n",
    "for x in no_info:\n",
    "    del continentes[x[0]][x[1]]    \n",
    "\n",
    "# sumamos la cantidad de poblacion total que se tiene en este conjunto reducido de paises\n",
    "seleccion_total_pop = 0\n",
    "for continente, paises in continentes.items():\n",
    "    for name, value in paises.items():\n",
    "        seleccion_total_pop += value['pop']\n",
    "\n",
    "# Si comparamos la poblacion total de los paises que seleccionamos en base a la lista data_countries.json y \n",
    "# la poblacion total obtenida de WRP_national\n",
    "\n",
    "print(\"Poblacion total según WRP_national: {}\\n\"\n",
    "      \"Poblacion total de mi selección de paises:{}\\n\"\n",
    "      \"Población total que dejamos fuera: {} ,que equivale a un: {}% de la población según WRP_national\\n\".format(wrp_total_pop,seleccion_total_pop,\n",
    "                                                                              wrp_total_pop - seleccion_total_pop,\n",
    "                                                                              round(100 - (seleccion_total_pop * 100 / wrp_total_pop), 2)))"
   ]
  },
  {
   "cell_type": "markdown",
   "metadata": {},
   "source": [
    "Tomaré la decisión de dejar fuera este 6% de la población, debido a que de esta manera puedo representar mejor el numero de practicantes por religion por continente. Si hubiese tomado los datos del año 2010 del dataset `WRP_global`, no tendría certeza acerca de que paises componen los continentes mencionados en este dataset. \n",
    "\n",
    "Gracias al resultado anterior podemos agregar los practicantes de las diez religiones mas numerosas a cada pais de mi selección y podemos calcular la poblacion total por continente:"
   ]
  },
  {
   "cell_type": "code",
   "execution_count": 112,
   "metadata": {
    "collapsed": true
   },
   "outputs": [],
   "source": [
    "for religion in largest_religions:\n",
    "    for index, row in wrp_countries_2010.iterrows():\n",
    "         for continente, paises in continentes.items():\n",
    "                for name, value in paises.items():\n",
    "                    if value['state_code'] == row['state']:\n",
    "                        continentes[continente][name][religion] = row[religion]"
   ]
  },
  {
   "cell_type": "markdown",
   "metadata": {},
   "source": [
    "Ahora voy a calcular la población total por continente: "
   ]
  },
  {
   "cell_type": "code",
   "execution_count": 113,
   "metadata": {},
   "outputs": [
    {
     "name": "stdout",
     "output_type": "stream",
     "text": [
      "Poblacion por continente:\n",
      " {'africa': 949596601, 'europe': 717572985, 'asia': 3799998439, 'america': 916165463, 'oceania': 23251222}\n"
     ]
    }
   ],
   "source": [
    "pop_per_continent = {}\n",
    "for continente, paises in continentes.items():\n",
    "    aux = 0\n",
    "    for name, value in paises.items():\n",
    "        aux += value['pop']\n",
    "    pop_per_continent[continente] = aux\n",
    "print(\"Poblacion por continente:\\n\",pop_per_continent)"
   ]
  },
  {
   "cell_type": "markdown",
   "metadata": {},
   "source": [
    "Ahora podemos realizar el punto **4** descrito anteriormente y obtenemos la cantidad de practicantes por religion por continente:"
   ]
  },
  {
   "cell_type": "code",
   "execution_count": 114,
   "metadata": {},
   "outputs": [
    {
     "name": "stdout",
     "output_type": "stream",
     "text": [
      "Numero de practicantes por religion por continente:\n",
      " {'africa': {'budothr': 211225, 'chrstprot': 143171479, 'syncgen': 105221, 'hindgen': 2241879, 'chrstgen': 461438996, 'budgen': 211225, 'islmgen': 393976657, 'nonrelig': 9317373, 'chrstcat': 140963289, 'islmsun': 374579127}, 'europe': {'budothr': 1556268, 'chrstprot': 65402075, 'syncgen': 506600, 'hindgen': 1124771, 'chrstgen': 541687398, 'budgen': 1556268, 'islmgen': 40297516, 'nonrelig': 121751715, 'chrstcat': 241584171, 'islmsun': 34128120}, 'asia': {'budothr': 273711204, 'chrstprot': 87564561, 'syncgen': 567689622, 'hindgen': 1006258003, 'chrstgen': 242761350, 'budgen': 362144542, 'islmgen': 1022742779, 'nonrelig': 462977583, 'chrstcat': 108420651, 'islmsun': 819675195}, 'oceania': {'budothr': 531866, 'chrstprot': 2857201, 'syncgen': 70333, 'hindgen': 420609, 'chrstgen': 14583581, 'budgen': 531866, 'islmgen': 529549, 'nonrelig': 6659707, 'chrstcat': 4690136, 'islmsun': 0}, 'america': {'budothr': 3494555, 'chrstprot': 235675605, 'syncgen': 5350252, 'hindgen': 2727755, 'chrstgen': 778436653, 'budgen': 4402791, 'islmgen': 4467445, 'nonrelig': 101983605, 'chrstcat': 497630487, 'islmsun': 3079377}}\n"
     ]
    }
   ],
   "source": [
    "religion_per_continent = {'asia':{}, 'america': {}, 'oceania':{}, 'africa':{}, 'europe': {}}\n",
    "for religion in largest_religions:\n",
    "    for continente, paises in continentes.items():\n",
    "        for name, value in paises.items():\n",
    "            if value['state_code'] == row['state']:\n",
    "                continentes[continente][name][religion] = row[religion]\n",
    "\n",
    "for religion in largest_religions:\n",
    "    for continente, paises in continentes.items():\n",
    "        aux = 0\n",
    "        for name, value in paises.items():\n",
    "            aux += value[religion]\n",
    "        religion_per_continent[continente][religion] = aux\n",
    "#         print(aux, religion, continente)     \n",
    "print(\"Numero de practicantes por religion por continente:\\n\",religion_per_continent)"
   ]
  },
  {
   "cell_type": "markdown",
   "metadata": {},
   "source": [
    "Con esta información ya estoy en condiciones de poder realizar el **Heatmap**\n",
    "\n",
    "Pero antes de eso, creamos el archivo con la información anterior:"
   ]
  },
  {
   "cell_type": "code",
   "execution_count": 125,
   "metadata": {
    "collapsed": true
   },
   "outputs": [],
   "source": [
    "\n",
    "procesed_data = {'Population': pop_per_continent, 'PracticantesPerContinent':religion_per_continent, 'Religions':largest_religions}\n",
    "with open('processed_data/heatmap.json', 'w') as fp:\n",
    "    json.dump(procesed_data, fp)"
   ]
  },
  {
   "cell_type": "markdown",
   "metadata": {},
   "source": [
    "El archivo se compone de dos entidades. La primera de ellas *Population*, contiene la poblacion total por continente. La segunda entidad *PracticantesPerContinent* contiene la cantidad de practicantes por religion por continente. "
   ]
  },
  {
   "cell_type": "markdown",
   "metadata": {},
   "source": [
    "## Bubblechart\n",
    "\n",
    "En esta sección generare los archivos necesarios para realizar los bubblecharts.\n",
    "Del mismo modo que para el **Heatmap** describiré los pasos a seguir, pero considerando que son dos visualizaciones a genenerar. \n",
    "\n",
    "\n",
    "#### Continente como color: \n",
    "1. Utilizaré la lista de paises con información que obtuve para hacer el Heatmap\n",
    "2. Del archivo data_countries.json obtengo la información asociada a continente, población, IDH y coef.Gini\n",
    "3. Doy formato a esta información y se exporta para realizar el Bubblechart.\n",
    "\n",
    "**Nota**: A pesar de que toda la información la puedo sacar directamente de data_countries.json, prefiero mantenerme con la selección de paises que realicé para poder tener la mayor consistencia posible\n",
    "\n",
    "\n",
    "Lista de paises de las que tengo información:"
   ]
  },
  {
   "cell_type": "code",
   "execution_count": 130,
   "metadata": {},
   "outputs": [],
   "source": [
    "## Seleccionamos los paises de lso que tenemos informacion\n",
    "\n",
    "\n",
    "# bubblecharts va a contener la data para ambas visualizaciones \n",
    "bubblecharts = {}\n",
    "for continente in countries.keys():\n",
    "    for countrie in countries[continente]:\n",
    "        if countrie['name']['common'] not in no_info_countries:\n",
    "            bubblecharts[countrie['name']['common']]= {'area':countrie['area'], 'hdi': float(countrie['hdi']), \n",
    "                     \n",
    "                                                                     'gini':float(countrie['gini']), 'continente':continente}\n",
    "\n"
   ]
  },
  {
   "cell_type": "markdown",
   "metadata": {},
   "source": [
    "Exportaré esta información para usarla en crear el primer bubblechart.\n",
    "\n",
    "#### Religión mas prácticada como color:\n",
    "1. Buscar la religión más popular del pais segun los datos en WRP_nation.csv \n",
    "2. Utilizaré la información del pimer bubblechart pero reemplazando el continente por la religion."
   ]
  },
  {
   "cell_type": "code",
   "execution_count": 131,
   "metadata": {},
   "outputs": [],
   "source": [
    "\n",
    "# best_relig_in_country almacena la religion mas popular del pais\n",
    "best_relig_in_country = {}\n",
    "for index, row in wrp_countries_2010.iterrows():\n",
    "    for continente in continentes.keys():\n",
    "        for pais,values in continentes[continente].items():\n",
    "            if values['state_code'] == row['state']:\n",
    "                # concateno solo los valores correspondientes a las religiones mayores, sin sus familias religiosas\n",
    "                religions = [row[8], row[13], row[21], row[25], row[26], row[27], row[28], row[29], row[30],\n",
    "                             row[31], row[32], row[33], row[34], row[35], row[37]]\n",
    "                biggest_relig = max(religions)\n",
    "                relig_names = ['Christianity','Judaism', 'Islam', 'Buddhism', 'Zoroastrian', 'Hindu', 'Sikh', 'Shinto',\n",
    "                               'Baha’i', 'Taoism', 'Confucianism', 'Jain', 'Syncretic', 'Animist', 'Non. Religious',\n",
    "                               'Other']\n",
    "                best_relig_in_country[pais] = relig_names[religions.index(biggest_relig)]\n",
    "\n",
    "# Cruzamos con los datos del json\n",
    "for country in bubblecharts.keys():\n",
    "    bubblecharts[country]['religion'] = best_relig_in_country[country]\n"
   ]
  },
  {
   "cell_type": "markdown",
   "metadata": {},
   "source": [
    "Logré obtener toda la información que necesitaba y la guarde en el diccionario `bubblecharts`.\n",
    "\n",
    "Ahora se puede exportar este diccionario a un archivo y usarlo para generar las visualizaciones."
   ]
  },
  {
   "cell_type": "code",
   "execution_count": 132,
   "metadata": {},
   "outputs": [],
   "source": [
    "with open('processed_data/bubblecharts.json', 'w') as fp:\n",
    "    json.dump(bubblecharts, fp)"
   ]
  },
  {
   "cell_type": "code",
   "execution_count": null,
   "metadata": {
    "collapsed": true
   },
   "outputs": [],
   "source": []
  },
  {
   "cell_type": "code",
   "execution_count": null,
   "metadata": {
    "collapsed": true
   },
   "outputs": [],
   "source": []
  }
 ],
 "metadata": {
  "kernelspec": {
   "display_name": "Python 3",
   "language": "python",
   "name": "python3"
  },
  "language_info": {
   "codemirror_mode": {
    "name": "ipython",
    "version": 3
   },
   "file_extension": ".py",
   "mimetype": "text/x-python",
   "name": "python",
   "nbconvert_exporter": "python",
   "pygments_lexer": "ipython3",
   "version": "3.5.2"
  }
 },
 "nbformat": 4,
 "nbformat_minor": 2
}
