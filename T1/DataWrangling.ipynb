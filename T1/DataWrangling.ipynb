{
 "cells": [
  {
   "cell_type": "markdown",
   "metadata": {},
   "source": [
    "## Procesamiento de distintos Datasets de religiones en el mundo\n",
    "El objetivo de este procesamiento de datos es limpiar, integrar y transformar los datos de distintos set de datos para posteriormente poder realizar un analisís mediante visualizaciones realizadas con SVG.\n",
    "\n",
    "\n",
    "Para esto utilizaré la libreria Pandas de Python para el procesamiento de los datos que se encuentran en formato CSV y JSON\n"
   ]
  },
  {
   "cell_type": "code",
   "execution_count": 230,
   "metadata": {
    "collapsed": true
   },
   "outputs": [],
   "source": [
    "import pandas as pd\n",
    "import json\n",
    "from heapq import nlargest\n",
    "from pandas.io.json import json_normalize\n",
    "\n",
    "from IPython.display import display"
   ]
  },
  {
   "cell_type": "markdown",
   "metadata": {},
   "source": [
    "Vamos a crear los distintos dataframes para poder generar los archivos a utilizar en el punto2. \n",
    "\n",
    "\n",
    "Creamos los dataframes con los distintos datasets:"
   ]
  },
  {
   "cell_type": "code",
   "execution_count": 265,
   "metadata": {},
   "outputs": [],
   "source": [
    "wrp_global = pd.read_csv('data/WRP_global.csv')\n",
    "wrp_nation = pd.read_csv('data/WRP_national.csv')\n",
    "wrp_region = pd.read_csv('data/WRP_regional.csv')\n",
    "wrp_COW = pd.read_csv('data/COW_country_codes.csv')\n",
    "\n",
    "with open('data/dataset_countries.json') as json_data:\n",
    "    countries = json.load(json_data)\n",
    "    json_data.close()\n",
    "\n"
   ]
  },
  {
   "cell_type": "markdown",
   "metadata": {},
   "source": [
    "#### Heatmap\n",
    "La preparación de los datos para esta visualización consiste en varios pasos que detallaré a continuacion:\n",
    "1. Determinar las religiones mas numerosas en funcion de el dataset WRP_global, de donde determinare que religiones van a estar en el heatmap.\n",
    "2. Cruzar datos entre los paises que están en **WRP_national** y la lista de paises según continentes que se encuentra en **dataset_json**. De manera de determinar a que continente pertenecen los paises que estan en **WRP_national**. De esto va a salir un nuevo dataframe de **Pandas** que va a contener a los paises según continente.\n",
    "Ya que la información que se tiene en **WRP_regional** no incluye a America y Oceania especificamente como tal.  \n",
    "3. Del dataframe anterior contamos la cantidad total de personas por continente. \n",
    "4. Procedemos a calcular la cantidad de practicantes por religion por continente según la lista de religiones obtenida en (2)\n",
    "\n",
    "\n",
    "**Importante**: Esta selección la haré en función de los últimos datos obtenidos en 2010."
   ]
  },
  {
   "cell_type": "markdown",
   "metadata": {},
   "source": [
    "Empezamos la preparación de datos siguiendo el esquema anterior.\n",
    "\n",
    "\n",
    "Religiones más numerosas:"
   ]
  },
  {
   "cell_type": "code",
   "execution_count": 266,
   "metadata": {},
   "outputs": [
    {
     "name": "stdout",
     "output_type": "stream",
     "text": [
      "['chrstgen', 'islmgen', 'islmsun', 'chrstcat', 'hindgen', 'nonrelig', 'syncgen', 'chrstprot', 'budgen', 'budothr']\n"
     ]
    }
   ],
   "source": [
    "# Seleccionamos la fila correspondiente al año 2010 y solo columnas con el numero de practicantes por religion\n",
    "global_religions = wrp_global[wrp_global['year'] == 2010].as_matrix()[0][0:36]\n",
    "\n",
    "# cambiamos las comas por espacios vacios para castear a float y obtener maximos\n",
    "global_religions = list(map(lambda x: float(x.replace(',','')) if type(x) == str else float(x), global_religions))\n",
    "\n",
    "# nombre de las 10 religiones mas numerosas en orden descendiente de izquierda a derecha\n",
    "religions = []\n",
    "for i in nlargest(10, global_religions):\n",
    "    for j in range(len(global_religions)):\n",
    "        if i == global_religions[j]:\n",
    "            religions.append(wrp_global.columns[j])\n",
    "print(religions)"
   ]
  },
  {
   "cell_type": "markdown",
   "metadata": {},
   "source": [
    "Ahora necesitamos cruzar datos entre los dataset WRP_national y dataset_json, de manera de tener la correlacion pais-continente.\n",
    "\n",
    "Partimos relacionando pais-continente:"
   ]
  },
  {
   "cell_type": "code",
   "execution_count": 427,
   "metadata": {},
   "outputs": [
    {
     "name": "stdout",
     "output_type": "stream",
     "text": [
      "paises inicial 148\n",
      "6830615581\n",
      "6406584710\n"
     ]
    }
   ],
   "source": [
    "# CONTINENTES Y SUS RESPECTIVOS PAISES\n",
    "continentes = {'europe': list(map(lambda x: x['name']['common'], countries['Europe'])),\n",
    "               'america': list(map(lambda x: x['name']['common'], countries['Americas'])),\n",
    "               'asia': list(map(lambda x: x['name']['common'], countries['Asia'])),\n",
    "               'oceania': list(map(lambda x: x['name']['common'], countries['Oceania'])),\n",
    "               'africa': list(map(lambda x: x['name']['common'], countries['Africa']))}\n",
    "\n",
    "# transformamos la lista de paises en diccionarios para poder agregar caracteristicas\n",
    "for continente in continentes:\n",
    "    aux = {}\n",
    "    for pais in continentes[continente]:\n",
    "        aux[pais] = {}\n",
    "    continentes[continente] = aux\n",
    "\n",
    "count = 0\n",
    "for continente in continentes:\n",
    "    for pais in continentes[continente]:\n",
    "        count += 1\n",
    "        \n",
    "print('paises inicial', count)\n",
    "# Ocupamos el dataset auxiliar COW_country_codes y asociamos el codigo con el nombre del pais\n",
    "code_abr = wrp_nation[wrp_nation['year'] == 2010].ix[:,1:3]\n",
    "\n",
    "# tenemos 194 paises con datos del año 2010 y 148 paises en el dataset_countries.json\n",
    "# revisamos si es que los 46 paises faltantes son realmente significativos en el porcentaje total de problación\n",
    "\n",
    "code_name = code_abr.join(wrp_COW.set_index(['CCode']), on='state')\n",
    "\n",
    "# Según los 194 países en WRP_nation, al año 2010 existe una poblacion total de:\n",
    "wrp_total_pop = wrp_nation[wrp_nation['year'] == 2010]['pop'].sum()\n",
    "\n",
    "# Consideramos los datos del año 2010 de los paises \n",
    "wrp_countries_2010 = wrp_nation[wrp_nation['year'] == 2010]\n",
    "\n",
    "# agregamos a nuestro diccionario de continentes el codigo de pais correspondiente, según el dataset auxiliar\n",
    "for index, row in code_name.iterrows():\n",
    "    for continente, paises in continentes.items():\n",
    "        for name, value in paises.items():\n",
    "            if name in row['StateNme']:\n",
    "                continentes[continente][name]['state_code'] = row['state']\n",
    "\n",
    "# cruzamos los datos de poblacion de WRP_national con los paises que tenemos en countries.json\n",
    "# agregamos informacion relacionada a la poblacion total de cada pais\n",
    "for index, row in wrp_countries_2010.iterrows():\n",
    "     for continente, paises in continentes.items():\n",
    "            for name, value in paises.items():\n",
    "                if value != {}:\n",
    "                    if value['state_code'] == row['state']:\n",
    "                        continentes[continente][name]['pop'] = row['pop']\n",
    "\n",
    "\n",
    "# buscamos paises de los que no tenemos informacion en WRP_national pero se encuentran en countries.json\n",
    "no_info = []\n",
    "for continente, paises in continentes.items():\n",
    "    for name, values in paises.items():\n",
    "        if values == {}:\n",
    "            no_info.append((continente, name))\n",
    "            \n",
    "# eliminamos estos paises que encontramos\n",
    "for x in no_info:\n",
    "    del continentes[x[0]][x[1]]    \n",
    "\n",
    "# ahora sumamos la cantidad de poblacion total que se tiene en este conjunto reducido de paises\n",
    "seleccion_total_pop = 0\n",
    "for continente, paises in continentes.items():\n",
    "    for name, value in paises.items():\n",
    "        seleccion_total_pop += value['pop']\n",
    "\n",
    "print(wrp_total_pop)\n",
    "print(seleccion_total_pop)\n",
    "\n",
    "print(seleccion_total_pop * 100 )\n",
    "\n"
   ]
  },
  {
   "cell_type": "markdown",
   "metadata": {},
   "source": []
  }
 ],
 "metadata": {
  "kernelspec": {
   "display_name": "Python 3",
   "language": "python",
   "name": "python3"
  },
  "language_info": {
   "codemirror_mode": {
    "name": "ipython",
    "version": 3
   },
   "file_extension": ".py",
   "mimetype": "text/x-python",
   "name": "python",
   "nbconvert_exporter": "python",
   "pygments_lexer": "ipython3",
   "version": "3.5.2"
  }
 },
 "nbformat": 4,
 "nbformat_minor": 2
}
